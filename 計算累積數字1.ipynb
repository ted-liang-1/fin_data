{
  "nbformat": 4,
  "nbformat_minor": 0,
  "metadata": {
    "colab": {
      "provenance": [],
      "authorship_tag": "ABX9TyM+7M3jUtkEt4pMwcrpbPiC",
      "include_colab_link": true
    },
    "kernelspec": {
      "name": "python3",
      "display_name": "Python 3"
    },
    "language_info": {
      "name": "python"
    }
  },
  "cells": [
    {
      "cell_type": "markdown",
      "metadata": {
        "id": "view-in-github",
        "colab_type": "text"
      },
      "source": [
        "<a href=\"https://colab.research.google.com/github/ted-liang-1/ted-liang-1/blob/main/%E8%A8%88%E7%AE%97%E7%B4%AF%E7%A9%8D%E6%95%B8%E5%AD%971.ipynb\" target=\"_parent\"><img src=\"https://colab.research.google.com/assets/colab-badge.svg\" alt=\"Open In Colab\"/></a>"
      ]
    },
    {
      "cell_type": "code",
      "execution_count": 21,
      "metadata": {
        "id": "b_N2CYJ3k6Lr"
      },
      "outputs": [],
      "source": [
        "Q1= 26295929"
      ]
    },
    {
      "cell_type": "code",
      "source": [
        "Q2= 27668242\n"
      ],
      "metadata": {
        "id": "7RGVlMhUtvEe"
      },
      "execution_count": 22,
      "outputs": []
    },
    {
      "cell_type": "code",
      "source": [
        "\n",
        "Q3= 27002293\n",
        "\n"
      ],
      "metadata": {
        "id": "OcCy36wqtw9-"
      },
      "execution_count": 23,
      "outputs": []
    },
    {
      "cell_type": "code",
      "source": [
        "Q4= 28347871\n",
        "\n"
      ],
      "metadata": {
        "id": "tNnFXM1EtzMN"
      },
      "execution_count": null,
      "outputs": []
    },
    {
      "cell_type": "code",
      "source": [
        "ACC_Q1 = Q1\n",
        "print(ACC_Q1)\n",
        "\n"
      ],
      "metadata": {
        "colab": {
          "base_uri": "https://localhost:8080/"
        },
        "id": "i2F6t2lgt1i2",
        "outputId": "daa04160-ca29-441d-d129-e97808e0bace"
      },
      "execution_count": null,
      "outputs": [
        {
          "output_type": "stream",
          "name": "stdout",
          "text": [
            "26295929\n"
          ]
        }
      ]
    },
    {
      "cell_type": "code",
      "source": [
        "ACC_Q2 = Q1 + Q2\n",
        "print(ACC_Q2)\n",
        "\n"
      ],
      "metadata": {
        "colab": {
          "base_uri": "https://localhost:8080/"
        },
        "id": "XXz4xwxrt2qu",
        "outputId": "254b5147-ea88-4445-9816-9c50d2900882"
      },
      "execution_count": null,
      "outputs": [
        {
          "output_type": "stream",
          "name": "stdout",
          "text": [
            "53964171\n"
          ]
        }
      ]
    },
    {
      "cell_type": "code",
      "source": [
        "ACC_Q3 = Q1 + Q2 + Q3\n",
        "print(ACC_Q3)\n",
        "\n"
      ],
      "metadata": {
        "colab": {
          "base_uri": "https://localhost:8080/"
        },
        "id": "WqmV04m3t3je",
        "outputId": "e5252d71-34e6-457a-bf40-6a2a66708543"
      },
      "execution_count": null,
      "outputs": [
        {
          "output_type": "stream",
          "name": "stdout",
          "text": [
            "80966464\n"
          ]
        }
      ]
    },
    {
      "cell_type": "code",
      "source": [
        "ACC_Q4 = Q1 + Q2 + Q3 + Q4\n",
        "print(ACC_Q4)"
      ],
      "metadata": {
        "colab": {
          "base_uri": "https://localhost:8080/"
        },
        "id": "dhh4byC9t4fP",
        "outputId": "95d39310-b2db-42b4-fe03-c6c975aa8082"
      },
      "execution_count": null,
      "outputs": [
        {
          "output_type": "stream",
          "name": "stdout",
          "text": [
            "109314335\n"
          ]
        }
      ]
    }
  ]
}