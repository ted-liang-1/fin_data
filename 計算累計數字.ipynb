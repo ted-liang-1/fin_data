{
  "nbformat": 4,
  "nbformat_minor": 0,
  "metadata": {
    "colab": {
      "provenance": [],
      "authorship_tag": "ABX9TyPV8PQ2A6NveLTXQggt+N2D",
      "include_colab_link": true
    },
    "kernelspec": {
      "name": "python3",
      "display_name": "Python 3"
    },
    "language_info": {
      "name": "python"
    }
  },
  "cells": [
    {
      "cell_type": "markdown",
      "metadata": {
        "id": "view-in-github",
        "colab_type": "text"
      },
      "source": [
        "<a href=\"https://colab.research.google.com/github/ted-liang-1/ted-liang-1/blob/main/%E8%A8%88%E7%AE%97%E7%B4%AF%E8%A8%88%E6%95%B8%E5%AD%97.ipynb\" target=\"_parent\"><img src=\"https://colab.research.google.com/assets/colab-badge.svg\" alt=\"Open In Colab\"/></a>"
      ]
    },
    {
      "cell_type": "code",
      "execution_count": 9,
      "metadata": {
        "colab": {
          "base_uri": "https://localhost:8080/"
        },
        "id": "b_N2CYJ3k6Lr",
        "outputId": "0dc6bb27-641d-483c-cfa4-48d71ead1153"
      },
      "outputs": [
        {
          "output_type": "stream",
          "name": "stdout",
          "text": [
            "26295929\n",
            "53964171\n",
            "80966464\n",
            "109314335\n"
          ]
        }
      ],
      "source": [
        "Q1= 26295929\n",
        "Q2= 27668242\n",
        "Q3= 27002293\n",
        "Q4= 28347871\n",
        "ACC_Q1 = Q1\n",
        "print(ACC_Q1)\n",
        "ACC_Q2 = Q1 + Q2\n",
        "print(ACC_Q2)\n",
        "ACC_Q3 = Q1 + Q2 + Q3\n",
        "print(ACC_Q3)\n",
        "ACC_Q4 = Q1 + Q2 + Q3 + Q4\n",
        "print(ACC_Q4)"
      ]
    }
  ]
}