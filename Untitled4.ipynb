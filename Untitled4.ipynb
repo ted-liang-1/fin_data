{
  "nbformat": 4,
  "nbformat_minor": 0,
  "metadata": {
    "colab": {
      "provenance": [],
      "authorship_tag": "ABX9TyN9WFyd87JzHKBDcR+Qwcce",
      "include_colab_link": true
    },
    "kernelspec": {
      "name": "python3",
      "display_name": "Python 3"
    },
    "language_info": {
      "name": "python"
    }
  },
  "cells": [
    {
      "cell_type": "markdown",
      "metadata": {
        "id": "view-in-github",
        "colab_type": "text"
      },
      "source": [
        "<a href=\"https://colab.research.google.com/github/ted-liang-1/fin_data/blob/main/Untitled4.ipynb\" target=\"_parent\"><img src=\"https://colab.research.google.com/assets/colab-badge.svg\" alt=\"Open In Colab\"/></a>"
      ]
    },
    {
      "cell_type": "code",
      "execution_count": 6,
      "metadata": {
        "colab": {
          "base_uri": "https://localhost:8080/"
        },
        "id": "97CG-9DBarOI",
        "outputId": "98340d09-cb5c-46d0-cae4-6d5ff422c156"
      },
      "outputs": [
        {
          "output_type": "stream",
          "name": "stdout",
          "text": [
            "             年/月  季別 合併(Y/N) 單季(Q)/單半年(H)  月份   幣別       營業收入淨額        營業成本  \\\n",
            "公司                                                                            \n",
            "2353 宏碁  2023/12   4       Y            Q  12  NTD   63,145,636  56,234,535   \n",
            "2357 華碩  2023/12   4       Y            Q  12  NTD  120,161,262  99,371,147   \n",
            "\n",
            "               營業毛利 聯屬公司已（未）實現銷貨利益  ... 綜合損益歸屬共同控制下前手權益  每股盈餘     加權平均股數  \\\n",
            "公司                                  ...                                    \n",
            "2353 宏碁   6,911,101              0  ...               0  0.34  3,001,145   \n",
            "2357 華碩  20,790,115          5,327  ...               0  5.29    742,760   \n",
            "\n",
            "         發放特別股股息 稀釋稅後淨利 每股盈餘－完全稀釋 加權平均股數－稀釋     稅前息前淨利  稅前息前折舊前淨利    常續性稅後淨利  \n",
            "公司                                                                            \n",
            "2353 宏碁        0      -         -         -  1,745,292  2,210,081  2,612,426  \n",
            "2357 華碩        0      -         -         -  6,380,186  7,101,531  5,738,600  \n",
            "\n",
            "[2 rows x 53 columns]\n"
          ]
        }
      ],
      "source": [
        "import pandas as pd\n",
        "url = \"https://raw.githubusercontent.com/ted-liang-1/fin_data/refs/heads/main/%E5%96%AE%E5%AD%A3%E6%90%8D%E7%9B%8A%E8%A1%A8.xlsx%20-%20%E5%B7%A5%E4%BD%9C%E8%A1%A81.csv\"\n",
        "df = pd.read_csv(url, index_col=0)\n",
        "print(df.head(5))\n"
      ]
    }
  ]
}