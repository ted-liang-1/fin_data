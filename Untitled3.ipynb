{
  "nbformat": 4,
  "nbformat_minor": 0,
  "metadata": {
    "colab": {
      "provenance": [],
      "authorship_tag": "ABX9TyPH3pmbF7117J6bNVg0LcQu",
      "include_colab_link": true
    },
    "kernelspec": {
      "name": "python3",
      "display_name": "Python 3"
    },
    "language_info": {
      "name": "python"
    }
  },
  "cells": [
    {
      "cell_type": "markdown",
      "metadata": {
        "id": "view-in-github",
        "colab_type": "text"
      },
      "source": [
        "<a href=\"https://colab.research.google.com/github/ted-liang-1/fin_data/blob/main/Untitled3.ipynb\" target=\"_parent\"><img src=\"https://colab.research.google.com/assets/colab-badge.svg\" alt=\"Open In Colab\"/></a>"
      ]
    },
    {
      "cell_type": "code",
      "execution_count": 2,
      "metadata": {
        "id": "hGlepuaVwBqF"
      },
      "outputs": [],
      "source": [
        "import pandas as pd\n",
        "url = \"https://raw.githubusercontent.com/ted-liang-1/fin_data/refs/heads/main/%E5%96%AE%E5%AD%A3_%E7%B4%AF%E8%A8%88%E6%90%8D%E7%9B%8A%E8%A1%A8.csv\""
      ]
    },
    {
      "cell_type": "code",
      "source": [
        "https://raw.githubusercontent.com/ted-liang-1/fin_data/refs/heads/main/%E5%96%AE%E5%AD%A3_%E7%B4%AF%E8%A8%88%E6%90%8D%E7%9B%8A%E8%A1%A8.csv"
      ],
      "metadata": {
        "id": "5va6znKD29_T"
      },
      "execution_count": null,
      "outputs": []
    },
    {
      "cell_type": "code",
      "source": [
        "df = pd.read_csv(url, index_col=0)\n",
        "print(df.head(5))\n",
        "\n"
      ],
      "metadata": {
        "colab": {
          "base_uri": "https://localhost:8080/"
        },
        "id": "rWIM-XETzkJa",
        "outputId": "0cf711ae-0134-4c9f-90b3-6e6a5273501d"
      },
      "execution_count": 5,
      "outputs": [
        {
          "output_type": "stream",
          "name": "stdout",
          "text": [
            "        Unnamed: 1 Unnamed: 2 Unnamed: 3 Unnamed: 4 Unnamed: 5   Unnamed: 6  \\\n",
            "累計損益表                                                                         \n",
            "公司             年/月         季別    合併(Y/N)         月份         幣別       營業收入淨額   \n",
            "2353 宏碁    2023/12          4          Y         12        NTD  241,308,142   \n",
            "2357 華碩    2023/12          4          Y         12        NTD  482,314,429   \n",
            "NaN            NaN        NaN        NaN        NaN        NaN          NaN   \n",
            "單季損益表          NaN        NaN        NaN        NaN        NaN          NaN   \n",
            "\n",
            "          Unnamed: 7  Unnamed: 8      Unnamed: 9 Unnamed: 10  ... Unnamed: 44  \\\n",
            "累計損益表                                                         ...               \n",
            "公司              營業成本        營業毛利  聯屬公司已（未）實現銷貨利益     已實現銷貨毛利  ...        每股盈餘   \n",
            "2353 宏碁  215,484,917  25,823,225               0  25,823,225  ...        1.64   \n",
            "2357 華碩  409,920,293  72,394,136          10,604  72,404,740  ...       21.44   \n",
            "NaN              NaN         NaN             NaN         NaN  ...         NaN   \n",
            "單季損益表            NaN         NaN             NaN         NaN  ...         NaN   \n",
            "\n",
            "        Unnamed: 45 Unnamed: 46 Unnamed: 47 Unnamed: 48 Unnamed: 49  \\\n",
            "累計損益表                                                                 \n",
            "公司           加權平均股數     發放特別股股息      稀釋稅後淨利   每股盈餘－完全稀釋   加權平均股數－稀釋   \n",
            "2353 宏碁   3,001,145           0   4,931,944        1.64   3,013,657   \n",
            "2357 華碩     742,760           0  15,928,283       21.36     745,775   \n",
            "NaN             NaN         NaN         NaN         NaN         NaN   \n",
            "單季損益表           NaN         NaN         NaN         NaN         NaN   \n",
            "\n",
            "        Unnamed: 50 Unnamed: 51 Unnamed: 52 Unnamed: 53  \n",
            "累計損益表                                                    \n",
            "公司           稅前息前淨利   稅前息前折舊前淨利     常續性稅後淨利         NaN  \n",
            "2353 宏碁   8,082,273   9,858,455   4,968,531         NaN  \n",
            "2357 華碩  22,786,629  25,558,012  17,059,389         NaN  \n",
            "NaN             NaN         NaN         NaN         NaN  \n",
            "單季損益表           NaN         NaN         NaN         NaN  \n",
            "\n",
            "[5 rows x 53 columns]\n"
          ]
        }
      ]
    },
    {
      "cell_type": "code",
      "source": [
        "\"https://raw.githubusercontent.com/ted-liang-1/fin_data/main/損益表.csv\""
      ],
      "metadata": {
        "colab": {
          "base_uri": "https://localhost:8080/",
          "height": 35
        },
        "id": "T79Nypev1Upb",
        "outputId": "0ce00493-c335-46b3-8ae2-6bb64c3c8f79"
      },
      "execution_count": 6,
      "outputs": [
        {
          "output_type": "execute_result",
          "data": {
            "text/plain": [
              "'https://raw.githubusercontent.com/ted-liang-1/fin_data/main/損益表.csv'"
            ],
            "application/vnd.google.colaboratory.intrinsic+json": {
              "type": "string"
            }
          },
          "metadata": {},
          "execution_count": 6
        }
      ]
    },
    {
      "cell_type": "code",
      "source": [
        "\"https://raw.githubusercontent.com/ted-liang-1/fin_data/main/Income Statement.csv\""
      ],
      "metadata": {
        "colab": {
          "base_uri": "https://localhost:8080/",
          "height": 35
        },
        "id": "M4qoFAkS2X6a",
        "outputId": "21d16746-2e35-4168-fa5c-f5e0ebac84c4"
      },
      "execution_count": 7,
      "outputs": [
        {
          "output_type": "execute_result",
          "data": {
            "text/plain": [
              "'https://raw.githubusercontent.com/ted-liang-1/fin_data/main/Income Statement.csv'"
            ],
            "application/vnd.google.colaboratory.intrinsic+json": {
              "type": "string"
            }
          },
          "metadata": {},
          "execution_count": 7
        }
      ]
    },
    {
      "cell_type": "code",
      "source": [
        "\"https://raw.githubusercontent.com/fju155447/fin_data/main/2330.TW.csv\""
      ],
      "metadata": {
        "colab": {
          "base_uri": "https://localhost:8080/",
          "height": 35
        },
        "id": "dhG2OXsW3DLi",
        "outputId": "a989e0ae-1246-464f-cd9d-ed55743a7b12"
      },
      "execution_count": 11,
      "outputs": [
        {
          "output_type": "execute_result",
          "data": {
            "text/plain": [
              "'https://raw.githubusercontent.com/fju155447/fin_data/main/2330.TW.csv'"
            ],
            "application/vnd.google.colaboratory.intrinsic+json": {
              "type": "string"
            }
          },
          "metadata": {},
          "execution_count": 11
        }
      ]
    },
    {
      "cell_type": "code",
      "source": [
        "\"https://raw.githubusercontent.com/ted-liang-1/fin_data/main/2330.TW.csv\""
      ],
      "metadata": {
        "colab": {
          "base_uri": "https://localhost:8080/",
          "height": 35
        },
        "id": "dRc1p_Es3rxT",
        "outputId": "13e807fb-1411-49d1-ac63-b8eba1625abb"
      },
      "execution_count": 12,
      "outputs": [
        {
          "output_type": "execute_result",
          "data": {
            "text/plain": [
              "'https://raw.githubusercontent.com/ted-liang-1/fin_data/main/2330.TW.csv'"
            ],
            "application/vnd.google.colaboratory.intrinsic+json": {
              "type": "string"
            }
          },
          "metadata": {},
          "execution_count": 12
        }
      ]
    },
    {
      "cell_type": "code",
      "source": [
        "import pandas as pd\n",
        "\"https://raw.githubusercontent.com/fju155447/fin_data/main/2330.TW.csv\"\n",
        "df = pd.read_csv(url, index_col=0)\n",
        "print(df.head(5))\n"
      ],
      "metadata": {
        "colab": {
          "base_uri": "https://localhost:8080/"
        },
        "id": "sXgN8mea3-GI",
        "outputId": "11c93fc6-3f70-4bfb-eccc-c17c67f8c43a"
      },
      "execution_count": 15,
      "outputs": [
        {
          "output_type": "stream",
          "name": "stdout",
          "text": [
            "        Unnamed: 1 Unnamed: 2 Unnamed: 3 Unnamed: 4 Unnamed: 5   Unnamed: 6  \\\n",
            "累計損益表                                                                         \n",
            "公司             年/月         季別    合併(Y/N)         月份         幣別       營業收入淨額   \n",
            "2353 宏碁    2023/12          4          Y         12        NTD  241,308,142   \n",
            "2357 華碩    2023/12          4          Y         12        NTD  482,314,429   \n",
            "NaN            NaN        NaN        NaN        NaN        NaN          NaN   \n",
            "單季損益表          NaN        NaN        NaN        NaN        NaN          NaN   \n",
            "\n",
            "          Unnamed: 7  Unnamed: 8      Unnamed: 9 Unnamed: 10  ... Unnamed: 44  \\\n",
            "累計損益表                                                         ...               \n",
            "公司              營業成本        營業毛利  聯屬公司已（未）實現銷貨利益     已實現銷貨毛利  ...        每股盈餘   \n",
            "2353 宏碁  215,484,917  25,823,225               0  25,823,225  ...        1.64   \n",
            "2357 華碩  409,920,293  72,394,136          10,604  72,404,740  ...       21.44   \n",
            "NaN              NaN         NaN             NaN         NaN  ...         NaN   \n",
            "單季損益表            NaN         NaN             NaN         NaN  ...         NaN   \n",
            "\n",
            "        Unnamed: 45 Unnamed: 46 Unnamed: 47 Unnamed: 48 Unnamed: 49  \\\n",
            "累計損益表                                                                 \n",
            "公司           加權平均股數     發放特別股股息      稀釋稅後淨利   每股盈餘－完全稀釋   加權平均股數－稀釋   \n",
            "2353 宏碁   3,001,145           0   4,931,944        1.64   3,013,657   \n",
            "2357 華碩     742,760           0  15,928,283       21.36     745,775   \n",
            "NaN             NaN         NaN         NaN         NaN         NaN   \n",
            "單季損益表           NaN         NaN         NaN         NaN         NaN   \n",
            "\n",
            "        Unnamed: 50 Unnamed: 51 Unnamed: 52 Unnamed: 53  \n",
            "累計損益表                                                    \n",
            "公司           稅前息前淨利   稅前息前折舊前淨利     常續性稅後淨利         NaN  \n",
            "2353 宏碁   8,082,273   9,858,455   4,968,531         NaN  \n",
            "2357 華碩  22,786,629  25,558,012  17,059,389         NaN  \n",
            "NaN             NaN         NaN         NaN         NaN  \n",
            "單季損益表           NaN         NaN         NaN         NaN  \n",
            "\n",
            "[5 rows x 53 columns]\n"
          ]
        }
      ]
    }
  ]
}